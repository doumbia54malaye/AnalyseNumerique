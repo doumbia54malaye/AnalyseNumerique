{
 "cells": [
  {
   "cell_type": "code",
   "execution_count": null,
   "id": "91666c47",
   "metadata": {},
   "outputs": [
    {
     "ename": "NameError",
     "evalue": "name 'simpson' is not defined",
     "output_type": "error",
     "traceback": [
      "\u001b[1;31m---------------------------------------------------------------------------\u001b[0m",
      "\u001b[1;31mNameError\u001b[0m                                 Traceback (most recent call last)",
      "Cell \u001b[1;32mIn[1], line 15\u001b[0m\n\u001b[0;32m     13\u001b[0m rsTrap \u001b[38;5;241m=\u001b[39m trapeze(\u001b[38;5;241m0\u001b[39m,\u001b[38;5;241m3\u001b[39m,\u001b[38;5;241m1000\u001b[39m, f)\n\u001b[0;32m     14\u001b[0m rsRect \u001b[38;5;241m=\u001b[39m rectangle(\u001b[38;5;241m0\u001b[39m, \u001b[38;5;241m3\u001b[39m, \u001b[38;5;241m1000\u001b[39m, f)\n\u001b[1;32m---> 15\u001b[0m rsSimp \u001b[38;5;241m=\u001b[39m simpson(\u001b[38;5;241m0\u001b[39m, \u001b[38;5;241m3\u001b[39m, \u001b[38;5;241m1000\u001b[39m, f)\n\u001b[0;32m     18\u001b[0m \u001b[38;5;28mprint\u001b[39m(rsRect)\n\u001b[0;32m     19\u001b[0m \u001b[38;5;28mprint\u001b[39m(rsTrap)\n",
      "\u001b[1;31mNameError\u001b[0m: name 'simpson' is not defined"
     ]
    }
   ],
   "source": [
    "from RectangleM2GI import rectangle\n",
    "from trapezeM2GI import trapeze\n",
    "from Simpson import simpson\n",
    "from Spline_Integrale import splineQuad\n",
    "import time\n",
    "\n",
    "import matplotlib.pyplot as plt\n",
    "import sympy as sp\n",
    "import numpy as np\n",
    "\n",
    "x = sp.Symbol('x')\n",
    "f = x**2\n",
    "\n",
    "rsTrap = trapeze(0,3,1000, f)\n",
    "rsRect = rectangle(0, 3, 1000, f)\n",
    "rsSimp = simpson(0, 3, 1000, f)\n",
    "\n",
    "\n",
    "print(rsRect)\n",
    "print(rsTrap)\n",
    "print(rsSimp)"
   ]
  },
  {
   "cell_type": "code",
   "execution_count": null,
   "id": "aaa30502",
   "metadata": {},
   "outputs": [],
   "source": [
    "import numpy as np\n",
    "import sympy as sp\n",
    "from Spline_Integrale import splineQuad  # adapte le nom selon ton fichier\n",
    "\n",
    "# 1. Définition symbolique\n",
    "x = sp.Symbol('x')\n",
    "f_sym = x**2 * sp.sin(x)\n",
    "\n",
    "# 2. Dérivée symbolique (utile plus tard pour comparaison)\n",
    "f_deriv_sym = sp.diff(f_sym, x)\n",
    "\n",
    "# 3. Fonction numérique (pour calculer les valeurs)\n",
    "f = sp.lambdify(x, f_sym, 'numpy')\n",
    "\n",
    "# 4. Points d’échantillonnage\n",
    "x_vals = np.array([0, 1.5, 2.5, 4, 5.5, 6.2, 7])\n",
    "\n",
    "# 5. Calcul des images\n",
    "y_vals = f(x_vals)\n",
    "\n",
    "# 6. Appel du spline et intégration\n",
    "splineQuad(x_vals, y_vals, nb_point_int=10000)"
   ]
  }
 ],
 "metadata": {
  "kernelspec": {
   "display_name": "base",
   "language": "python",
   "name": "python3"
  },
  "language_info": {
   "codemirror_mode": {
    "name": "ipython",
    "version": 3
   },
   "file_extension": ".py",
   "mimetype": "text/x-python",
   "name": "python",
   "nbconvert_exporter": "python",
   "pygments_lexer": "ipython3",
   "version": "3.11.5"
  }
 },
 "nbformat": 4,
 "nbformat_minor": 5
}
