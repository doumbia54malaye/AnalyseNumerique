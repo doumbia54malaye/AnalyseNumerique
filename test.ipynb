{
 "cells": [
  {
   "cell_type": "code",
   "execution_count": 1,
   "id": "91666c47",
   "metadata": {},
   "outputs": [
    {
     "name": "stdout",
     "output_type": "stream",
     "text": [
      "Résultat M Rect : 8.986504500000004 | Temps d'exécution : 0.00046940000174799934\n",
      "Résultat M Trap : 9.000004500000005 | Temps d'exécution : 0.006587899999431102\n",
      "('Resultalt de M simp9.000000000000005', \" | Temps d'exécution : 0.000438300001405878\")\n"
     ]
    }
   ],
   "source": [
    "from RectangleM2GI import rectangle\n",
    "from trapezeM2GI import trapeze\n",
    "from Simpson import simpson\n",
    "import time\n",
    "\n",
    "import matplotlib.pyplot as plt\n",
    "import sympy as sp\n",
    "import numpy as np\n",
    "\n",
    "x = sp.Symbol('x')\n",
    "f = x**2\n",
    "\n",
    "rsTrap = trapeze(0,3,1000, f)\n",
    "rsRect = rectangle(0, 3, 1000, f)\n",
    "rsSimp = simpson(0, 3, 1000, f)\n",
    "\n",
    "\n",
    "print(rsRect)\n",
    "print(rsTrap)\n",
    "print(rsSimp)"
   ]
  }
 ],
 "metadata": {
  "kernelspec": {
   "display_name": "base",
   "language": "python",
   "name": "python3"
  },
  "language_info": {
   "codemirror_mode": {
    "name": "ipython",
    "version": 3
   },
   "file_extension": ".py",
   "mimetype": "text/x-python",
   "name": "python",
   "nbconvert_exporter": "python",
   "pygments_lexer": "ipython3",
   "version": "3.11.5"
  }
 },
 "nbformat": 4,
 "nbformat_minor": 5
}
