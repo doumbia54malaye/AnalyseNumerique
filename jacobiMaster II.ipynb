{
 "cells": [
  {
   "cell_type": "code",
   "execution_count": 5,
   "id": "4d061de8",
   "metadata": {},
   "outputs": [],
   "source": [
    "import numpy as np\n",
    "def jacobi(A, b, x = None):\n",
    " \n",
    "    n = len(b)\n",
    "    x_new = np.zeros_like(x)\n",
    "    for i in range(n):\n",
    "            sum_ax = 0 \n",
    "            v =np.delete(A[i],i) \n",
    "            t= np.delete(x,i)\n",
    "            x_new[i]= (b[i]-np.dot(v,t))/A[i,i]\n",
    "\n",
    "    return x_new\n"
   ]
  },
  {
   "cell_type": "code",
   "execution_count": 6,
   "id": "33a0df02",
   "metadata": {},
   "outputs": [],
   "source": [
    "# y represente la solution actuel et x represente la solution precedente\n",
    "def relaxation(A , b , x ,  omega):\n",
    "    \n",
    "    n = len(b)\n",
    "    y = np.zeros_like(x)\n",
    "    \n",
    "    for i in range(n):\n",
    "        y[i] = ( omega * (b[i] - np.dot(A[i, :i] , y[:i]) - np.dot(A[i , i+1:] , x[i+1 :]))/A[i , i] ) + ( 1+omega )*x[i]\n",
    "    return y"
   ]
  },
  {
   "cell_type": "code",
   "execution_count": 7,
   "id": "b61b349c",
   "metadata": {},
   "outputs": [
    {
     "data": {
      "text/plain": [
       "array([3.75      , 2.5       , 2.5       , 3.33333333])"
      ]
     },
     "execution_count": 7,
     "metadata": {},
     "output_type": "execute_result"
    }
   ],
   "source": [
    "A = np.array([[4, -1, 0, 0],\n",
    "              [-1, 4, -1, 0],\n",
    "              [0, -1, 4, -1],\n",
    "              [0, 0, -1, 3]])\n",
    "b = np.array([15, 10, 10, 10])\n",
    "x0 = np.zeros(len(b))\n",
    "\n",
    "jacobi(A, b , x0)"
   ]
  },
  {
   "cell_type": "code",
   "execution_count": 8,
   "id": "a7059317",
   "metadata": {},
   "outputs": [
    {
     "data": {
      "text/plain": [
       "array([3.75    , 3.4375  , 3.359375, 4.453125])"
      ]
     },
     "execution_count": 8,
     "metadata": {},
     "output_type": "execute_result"
    }
   ],
   "source": [
    "A = np.array([[4, -1, 0, 0],\n",
    "              [-1, 4, -1, 0],\n",
    "              [0, -1, 4, -1],\n",
    "              [0, 0, -1, 3]])\n",
    "b = np.array([15, 10, 10, 10])\n",
    "x0 = np.zeros(len(b))\n",
    "relaxation(A, b , x0 , 1)"
   ]
  },
  {
   "cell_type": "code",
   "execution_count": null,
   "id": "01b74f82",
   "metadata": {},
   "outputs": [],
   "source": []
  }
 ],
 "metadata": {
  "kernelspec": {
   "display_name": "Python 3 (ipykernel)",
   "language": "python",
   "name": "python3"
  },
  "language_info": {
   "codemirror_mode": {
    "name": "ipython",
    "version": 3
   },
   "file_extension": ".py",
   "mimetype": "text/x-python",
   "name": "python",
   "nbconvert_exporter": "python",
   "pygments_lexer": "ipython3",
   "version": "3.11.5"
  }
 },
 "nbformat": 4,
 "nbformat_minor": 5
}
