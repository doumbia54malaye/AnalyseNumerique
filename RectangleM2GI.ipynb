{
 "cells": [
  {
   "cell_type": "code",
   "execution_count": 19,
   "id": "cf5e62ee",
   "metadata": {},
   "outputs": [],
   "source": [
    "import matplotlib.pyplot as plt\n",
    "import numpy as np\n",
    "import sympy as sp\n",
    "def rectangle(a, b, n,function):\n",
    "    h = (b-a)/n\n",
    "    S = 0\n",
    "    y = np.zeros(n)\n",
    "    x = sp.Symbol('x')        \n",
    "    f = sp.lambdify(x, function, 'numpy')\n",
    "    \n",
    "    for i in range(n):\n",
    "        y[i] = a + h**i\n",
    "        S += f(y[i])\n",
    "    I = h*S\n",
    "    \n",
    "    return I\n",
    "    "
   ]
  },
  {
   "cell_type": "code",
   "execution_count": 20,
   "id": "2b2d6568",
   "metadata": {},
   "outputs": [
    {
     "name": "stdout",
     "output_type": "stream",
     "text": [
      "0.003000027000243002\n"
     ]
    }
   ],
   "source": [
    "x = sp.Symbol('x')\n",
    "f = x**2\n",
    "resultat = rectangle(0, 2, 4, f)\n",
    "\n",
    "\n",
    "resultat = rectangle(0, 3, 1000, f)\n",
    "print(resultat)"
   ]
  },
  {
   "cell_type": "code",
   "execution_count": null,
   "id": "d5efbdf1",
   "metadata": {},
   "outputs": [],
   "source": []
  }
 ],
 "metadata": {
  "kernelspec": {
   "display_name": "Python 3 (ipykernel)",
   "language": "python",
   "name": "python3"
  },
  "language_info": {
   "codemirror_mode": {
    "name": "ipython",
    "version": 3
   },
   "file_extension": ".py",
   "mimetype": "text/x-python",
   "name": "python",
   "nbconvert_exporter": "python",
   "pygments_lexer": "ipython3",
   "version": "3.11.5"
  }
 },
 "nbformat": 4,
 "nbformat_minor": 5
}
